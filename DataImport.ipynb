{
 "cells": [
  {
   "cell_type": "code",
   "execution_count": 1,
   "id": "b91cf97d",
   "metadata": {},
   "outputs": [],
   "source": [
    "import numpy as np # We'll need numpy later\n",
    "from scipy.stats import kstest, ttest_ind, ks_2samp, zscore\n",
    "import matplotlib.pyplot as plt # This lets us access the pyplot functions\n",
    "import pandas as pd #used for data tables"
   ]
  },
  {
   "cell_type": "code",
   "execution_count": 2,
   "id": "8175f636",
   "metadata": {},
   "outputs": [
    {
     "name": "stdout",
     "output_type": "stream",
     "text": [
      "       PHASE   ID   RID  SITEID VISCODE    USERDATE USERDATE2  FHQSOURCE  \\\n",
      "0      ADNI1   12     2     107      sc  2005-08-17       NaN        1.0   \n",
      "1      ADNI1   14     1      10       f  2005-08-18       NaN        1.0   \n",
      "2      ADNI1   16     3     107      sc  2005-08-18       NaN        1.0   \n",
      "3      ADNI1   18     4      10      sc  2005-08-18       NaN        1.0   \n",
      "4      ADNI1   20     5     107      sc  2005-08-23       NaN        1.0   \n",
      "...      ...  ...   ...     ...     ...         ...       ...        ...   \n",
      "2947  ADNIGO  620  2401      46      sc  2011-08-31       NaN        NaN   \n",
      "2948  ADNIGO  622  2405      46      sc  2011-09-19       NaN        NaN   \n",
      "2949  ADNIGO  624  2406      46      sc  2011-11-01       NaN        NaN   \n",
      "2950  ADNIGO  626  2407      46      sc  2011-11-07       NaN        NaN   \n",
      "2951  ADNIGO  628  2404      46      sc  2011-11-15       NaN        NaN   \n",
      "\n",
      "      FHQPROV  FHQMOM  FHQMOMAD  FHQDAD  FHQDADAD  FHQSIB  \\\n",
      "0           2     0.0       0.0     0.0       0.0       0   \n",
      "1           2     0.0      -4.0     0.0      -4.0       1   \n",
      "2           3     0.0       0.0     1.0       1.0       0   \n",
      "3           3     0.0       0.0     0.0       0.0       1   \n",
      "4           2     0.0       0.0     1.0       0.0       1   \n",
      "...       ...     ...       ...     ...       ...     ...   \n",
      "2947        3     2.0       NaN     0.0       NaN       1   \n",
      "2948        3     0.0       NaN     0.0       NaN       1   \n",
      "2949        1     0.0       NaN     0.0       NaN       1   \n",
      "2950        1     0.0       NaN     0.0       NaN       1   \n",
      "2951        3     1.0       1.0     0.0       NaN       1   \n",
      "\n",
      "               update_stamp  \n",
      "0     2005-08-17 00:00:00.0  \n",
      "1     2005-08-18 00:00:00.0  \n",
      "2     2005-08-18 00:00:00.0  \n",
      "3     2005-08-18 00:00:00.0  \n",
      "4     2005-08-23 00:00:00.0  \n",
      "...                     ...  \n",
      "2947  2012-11-16 09:40:29.0  \n",
      "2948  2012-11-16 09:40:29.0  \n",
      "2949  2012-11-16 09:40:29.0  \n",
      "2950  2012-11-16 09:40:29.0  \n",
      "2951  2012-11-16 09:40:29.0  \n",
      "\n",
      "[2952 rows x 15 columns]\n"
     ]
    }
   ],
   "source": [
    "#df = pd.read_csv(r'Path where the CSV file is stored\\File name.csv')\n",
    "df = pd.read_csv(r'C:\\Users\\jdmpc\\Downloads\\FHQ (1).csv')\n",
    "#if we store the data in the same github repository as the project we should be able to call it with just the file name.                                                            \n",
    "print(df)\n",
    "#In order for us to work on the code at the same time we should set up seperate branches, work on them individually and then \n",
    "#use a pull request to combine them when were done."
   ]
  },
  {
   "cell_type": "code",
   "execution_count": 3,
   "id": "acfae52b",
   "metadata": {},
   "outputs": [
    {
     "name": "stdout",
     "output_type": "stream",
     "text": [
      "       PHASE   RID\n",
      "0      ADNI1     2\n",
      "1      ADNI1     1\n",
      "2      ADNI1     3\n",
      "3      ADNI1     4\n",
      "4      ADNI1     5\n",
      "...      ...   ...\n",
      "2947  ADNIGO  2401\n",
      "2948  ADNIGO  2405\n",
      "2949  ADNIGO  2406\n",
      "2950  ADNIGO  2407\n",
      "2951  ADNIGO  2404\n",
      "\n",
      "[2952 rows x 2 columns]\n",
      "[['ADNI1' 2]\n",
      " ['ADNI1' 1]\n",
      " ['ADNI1' 3]\n",
      " ...\n",
      " ['ADNIGO' 2406]\n",
      " ['ADNIGO' 2407]\n",
      " ['ADNIGO' 2404]]\n",
      "[2 1 3 ... 2406 2407 2404]\n"
     ]
    }
   ],
   "source": [
    "df1 = pd.DataFrame(df, columns=['PHASE', 'RID']) #Select Subset of Columns\n",
    "print(df1)\n",
    "df1array = df1.to_numpy() #convert pandas to array\n",
    "print(df1array)\n",
    "print(df1array[:,1])"
   ]
  },
  {
   "cell_type": "code",
   "execution_count": null,
   "id": "eea29f0d",
   "metadata": {},
   "outputs": [],
   "source": []
  }
 ],
 "metadata": {
  "kernelspec": {
   "display_name": "Python 3 (ipykernel)",
   "language": "python",
   "name": "python3"
  },
  "language_info": {
   "codemirror_mode": {
    "name": "ipython",
    "version": 3
   },
   "file_extension": ".py",
   "mimetype": "text/x-python",
   "name": "python",
   "nbconvert_exporter": "python",
   "pygments_lexer": "ipython3",
   "version": "3.9.13"
  }
 },
 "nbformat": 4,
 "nbformat_minor": 5
}
